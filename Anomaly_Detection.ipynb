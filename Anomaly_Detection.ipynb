{
  "nbformat": 4,
  "nbformat_minor": 0,
  "metadata": {
    "colab": {
      "provenance": []
    },
    "kernelspec": {
      "name": "python3",
      "display_name": "Python 3"
    },
    "language_info": {
      "name": "python"
    }
  },
  "cells": [
    {
      "cell_type": "code",
      "execution_count": 1,
      "metadata": {
        "colab": {
          "base_uri": "https://localhost:8080/"
        },
        "id": "giccrEX2qiDD",
        "outputId": "c187faac-0e25-47ea-f6c5-b5751f1a97d9"
      },
      "outputs": [
        {
          "output_type": "stream",
          "name": "stdout",
          "text": [
            "Requirement already satisfied: kagglehub in /usr/local/lib/python3.10/dist-packages (0.3.4)\n",
            "Requirement already satisfied: packaging in /usr/local/lib/python3.10/dist-packages (from kagglehub) (24.2)\n",
            "Requirement already satisfied: requests in /usr/local/lib/python3.10/dist-packages (from kagglehub) (2.32.3)\n",
            "Requirement already satisfied: tqdm in /usr/local/lib/python3.10/dist-packages (from kagglehub) (4.66.6)\n",
            "Requirement already satisfied: charset-normalizer<4,>=2 in /usr/local/lib/python3.10/dist-packages (from requests->kagglehub) (3.4.0)\n",
            "Requirement already satisfied: idna<4,>=2.5 in /usr/local/lib/python3.10/dist-packages (from requests->kagglehub) (3.10)\n",
            "Requirement already satisfied: urllib3<3,>=1.21.1 in /usr/local/lib/python3.10/dist-packages (from requests->kagglehub) (2.2.3)\n",
            "Requirement already satisfied: certifi>=2017.4.17 in /usr/local/lib/python3.10/dist-packages (from requests->kagglehub) (2024.8.30)\n"
          ]
        }
      ],
      "source": [
        "!pip install kagglehub\n"
      ]
    },
    {
      "cell_type": "code",
      "source": [
        "import os\n",
        "import kagglehub\n",
        "\n",
        "# Download dataset from Kaggle\n",
        "path = kagglehub.dataset_download(\"arktis2022/medical-anomaly-detection\")\n",
        "\n",
        "print(\"Path to dataset files:\", path)\n",
        "\n",
        "# List all files in the dataset directory\n",
        "files = os.listdir(path)\n",
        "print(\"Files in dataset directory:\", files)"
      ],
      "metadata": {
        "colab": {
          "base_uri": "https://localhost:8080/"
        },
        "id": "_sBksCWzrIaz",
        "outputId": "75e34711-f552-42ed-8cd2-602a3408a6d5"
      },
      "execution_count": 6,
      "outputs": [
        {
          "output_type": "stream",
          "name": "stdout",
          "text": [
            "Path to dataset files: /root/.cache/kagglehub/datasets/arktis2022/medical-anomaly-detection/versions/4\n",
            "Files in dataset directory: ['BUSI', 'brainMRI', 'head_ct']\n"
          ]
        }
      ]
    },
    {
      "cell_type": "code",
      "source": [
        "import pandas as pd\n",
        "import numpy as np\n",
        "from sklearn.ensemble import IsolationForest\n",
        "from sklearn.cluster import DBSCAN\n",
        "from sklearn.preprocessing import StandardScaler\n",
        "import matplotlib.pyplot as plt\n",
        "import seaborn as sns\n"
      ],
      "metadata": {
        "id": "vhE1BSxFrMKB"
      },
      "execution_count": 3,
      "outputs": []
    },
    {
      "cell_type": "code",
      "source": [
        "import os\n",
        "\n",
        "# Path to the brainMRI directory\n",
        "brain_mri_path = os.path.join(path, \"brainMRI\")\n",
        "\n",
        "# List all files in the brainMRI directory\n",
        "brain_mri_files = os.listdir(brain_mri_path)\n",
        "print(\"Files in brainMRI directory:\", brain_mri_files)\n"
      ],
      "metadata": {
        "colab": {
          "base_uri": "https://localhost:8080/"
        },
        "id": "P_bR5ubGsco8",
        "outputId": "d3247bbc-9991-4bcb-f275-5bde10f5efab"
      },
      "execution_count": 72,
      "outputs": [
        {
          "output_type": "stream",
          "name": "stdout",
          "text": [
            "Files in brainMRI directory: ['ground_truth', 'test', 'train', 'url.txt']\n"
          ]
        }
      ]
    },
    {
      "cell_type": "code",
      "source": [
        "# Explore the train directory\n",
        "train_path = os.path.join(brain_mri_path, \"train\")\n",
        "train_files = os.listdir(train_path)\n",
        "print(\"Files in train directory:\", train_files)\n",
        "\n",
        "# Explore the test directory\n",
        "test_path = os.path.join(brain_mri_path, \"test\")\n",
        "test_files = os.listdir(test_path)\n",
        "print(\"Files in test directory:\", test_files)\n",
        "\n",
        "# Explore ground_truth directory\n",
        "ground_truth_path = os.path.join(brain_mri_path, \"ground_truth\")\n",
        "ground_truth_files = os.listdir(ground_truth_path)\n",
        "print(\"Files in ground_truth directory:\", ground_truth_files)\n"
      ],
      "metadata": {
        "colab": {
          "base_uri": "https://localhost:8080/"
        },
        "id": "JOeLoYJ0sobN",
        "outputId": "569e415a-f14f-44d8-fab3-66ac60d986f1"
      },
      "execution_count": 73,
      "outputs": [
        {
          "output_type": "stream",
          "name": "stdout",
          "text": [
            "Files in train directory: ['good']\n",
            "Files in test directory: ['bad', 'good']\n",
            "Files in ground_truth directory: ['bad']\n"
          ]
        }
      ]
    },
    {
      "cell_type": "code",
      "source": [
        "import os\n",
        "\n",
        "# Path to the brainMRI directory\n",
        "brain_mri_path = os.path.join(path, \"brainMRI\")\n",
        "\n",
        "# Define paths to train, test, and ground_truth folders\n",
        "train_path = os.path.join(brain_mri_path, \"train\")\n",
        "test_path = os.path.join(brain_mri_path, \"test\")\n",
        "ground_truth_path = os.path.join(brain_mri_path, \"ground_truth\")\n",
        "\n",
        "# Count \"good\" and \"bad\" examples in the train and test folders\n",
        "train_good = len(os.listdir(os.path.join(train_path, \"good\"))) if os.path.exists(os.path.join(train_path, \"good\")) else 0\n",
        "test_good = len(os.listdir(os.path.join(test_path, \"good\"))) if os.path.exists(os.path.join(test_path, \"good\")) else 0\n",
        "test_bad = len(os.listdir(os.path.join(test_path, \"bad\"))) if os.path.exists(os.path.join(test_path, \"bad\")) else 0\n",
        "ground_truth_bad = len(os.listdir(ground_truth_path))  # Assuming ground_truth has only \"bad\" samples\n",
        "\n",
        "# Print counts\n",
        "print(f\"Train - Good: {train_good}\")\n",
        "print(f\"Test - Good: {test_good}, Bad: {test_bad}\")\n",
        "print(f\"Ground Truth - Bad: {ground_truth_bad}\")\n"
      ],
      "metadata": {
        "colab": {
          "base_uri": "https://localhost:8080/"
        },
        "id": "76Uex8ov-wUW",
        "outputId": "0529e8f0-be48-46c3-c609-367d90bc73ad"
      },
      "execution_count": 74,
      "outputs": [
        {
          "output_type": "stream",
          "name": "stdout",
          "text": [
            "Train - Good: 88\n",
            "Test - Good: 10, Bad: 154\n",
            "Ground Truth - Bad: 1\n"
          ]
        }
      ]
    },
    {
      "cell_type": "code",
      "source": [
        "import shutil\n",
        "import random\n",
        "import os\n",
        "\n",
        "# Paths to \"bad\" folder in test and train sets\n",
        "test_bad_path = os.path.join(test_path, \"bad\")\n",
        "train_bad_path = os.path.join(train_path, \"bad\")\n",
        "\n",
        "# Create the 'bad' directory in the train folder if it doesn't exist\n",
        "if not os.path.exists(train_bad_path):\n",
        "    os.makedirs(train_bad_path)\n",
        "\n",
        "# List of all \"bad\" files in the test set\n",
        "test_bad_files = os.listdir(test_bad_path)\n",
        "\n",
        "# Randomly select files to move (e.g., 20% of \"bad\" files)\n",
        "files_to_move = random.sample(test_bad_files, int(len(test_bad_files) * 0.4))\n",
        "\n",
        "# Move selected files to the train folder\n",
        "for file in files_to_move:\n",
        "    src = os.path.join(test_bad_path, file)\n",
        "    dst = os.path.join(train_bad_path, file)\n",
        "    shutil.move(src, dst)\n",
        "\n",
        "print(f\"Moved {len(files_to_move)} 'bad' examples from test to train.\")"
      ],
      "metadata": {
        "colab": {
          "base_uri": "https://localhost:8080/"
        },
        "id": "tnEJKmMj_d8l",
        "outputId": "e0fee490-63c9-44da-842c-448aa2cc3413"
      },
      "execution_count": 136,
      "outputs": [
        {
          "output_type": "stream",
          "name": "stdout",
          "text": [
            "Moved 4 'bad' examples from test to train.\n"
          ]
        }
      ]
    },
    {
      "cell_type": "code",
      "source": [
        "import shutil\n",
        "import random\n",
        "import os\n",
        "\n",
        "# Paths to \"bad\" folder in test and train sets\n",
        "test_bad_path = os.path.join(test_path, \"bad\")\n",
        "train_bad_path = os.path.join(train_path, \"bad\")\n",
        "\n",
        "# Create the 'bad' directory in the train folder if it doesn't exist\n",
        "if not os.path.exists(train_bad_path):\n",
        "    os.makedirs(train_bad_path)\n",
        "\n",
        "# List of all \"bad\" files in the test set\n",
        "test_bad_files = os.listdir(test_bad_path)\n",
        "\n",
        "# Randomly select files to move (e.g., 20% of \"bad\" files)\n",
        "files_to_move = random.sample(test_bad_files, int(len(test_bad_files) * 0.4))\n",
        "\n",
        "# Move selected files to the train folder\n",
        "for file in files_to_move:\n",
        "    src = os.path.join(test_bad_path, file)\n",
        "    dst = os.path.join(train_bad_path, file)\n",
        "    shutil.move(src, dst)\n",
        "\n",
        "print(f\"Moved {len(files_to_move)} 'bad' examples from test to train.\")"
      ],
      "metadata": {
        "id": "XKe5VVdqCqLA"
      },
      "execution_count": null,
      "outputs": []
    },
    {
      "cell_type": "code",
      "source": [
        "import os\n",
        "import shutil\n",
        "import random\n",
        "\n",
        "# Define paths to \"bad\" folders in train and test sets\n",
        "train_bad_path = os.path.join(train_path, \"bad\")\n",
        "test_bad_path = os.path.join(test_path, \"bad\")\n",
        "\n",
        "# List all \"bad\" files in the train set\n",
        "train_bad_files = os.listdir(train_bad_path)\n",
        "\n",
        "# Randomly select files to move (e.g., 26 files)\n",
        "files_to_move_back = random.sample(train_bad_files, 26)\n",
        "\n",
        "# Move selected files back to the test folder\n",
        "for file in files_to_move_back:\n",
        "    src = os.path.join(train_bad_path, file)\n",
        "    dst = os.path.join(test_bad_path, file)\n",
        "    shutil.move(src, dst)\n",
        "\n",
        "print(f\"Moved {len(files_to_move_back)} 'bad' examples back to test.\")\n"
      ],
      "metadata": {
        "colab": {
          "base_uri": "https://localhost:8080/"
        },
        "id": "K8dXaCYkD2HI",
        "outputId": "65c2bea5-87f1-42ab-a964-129ce08b5db2"
      },
      "execution_count": 154,
      "outputs": [
        {
          "output_type": "stream",
          "name": "stdout",
          "text": [
            "Moved 26 'bad' examples back to test.\n"
          ]
        }
      ]
    },
    {
      "cell_type": "code",
      "source": [
        "from PIL import Image\n",
        "import os\n",
        "\n",
        "# Explore the train directory\n",
        "train_path = os.path.join(brain_mri_path, \"train\")\n",
        "train_files = os.listdir(train_path)\n",
        "print(\"Files in train directory:\", train_files)\n",
        "\n",
        "# Get a list of image files within the 'good' directory\n",
        "image_files = [f for f in os.listdir(os.path.join(train_path, train_files[0])) if os.path.isfile(os.path.join(train_path, train_files[0], f))]\n",
        "\n",
        "# Example: Load the first image from the train/good directory\n",
        "example_image_path = os.path.join(train_path, train_files[0], image_files[0])  # Adjust index if needed\n",
        "image = Image.open(example_image_path)\n",
        "\n",
        "# Display the image\n",
        "image.show()\n",
        "\n",
        "# Check image properties\n",
        "print(\"Image size:\", image.size)\n",
        "print(\"Image mode:\", image.mode)"
      ],
      "metadata": {
        "colab": {
          "base_uri": "https://localhost:8080/"
        },
        "id": "uOOTsiYxtj7j",
        "outputId": "fec9d08b-b522-4fc7-b0a3-c59e0cfe648f"
      },
      "execution_count": 159,
      "outputs": [
        {
          "output_type": "stream",
          "name": "stdout",
          "text": [
            "Files in train directory: ['bad', 'good']\n",
            "Image size: (225, 291)\n",
            "Image mode: L\n"
          ]
        }
      ]
    },
    {
      "cell_type": "code",
      "source": [
        "# Recount \"good\" and \"bad\" examples in train and test folders\n",
        "train_bad = len(os.listdir(train_bad_path))\n",
        "test_bad = len(os.listdir(test_bad_path))\n",
        "\n",
        "print(f\"Updated Train - Good: {train_good}, Bad: {train_bad}\")\n",
        "print(f\"Updated Test - Good: {test_good}, Bad: {test_bad}\")\n"
      ],
      "metadata": {
        "colab": {
          "base_uri": "https://localhost:8080/"
        },
        "id": "PULphAG1_0Gu",
        "outputId": "1081ac5b-e6f6-442b-8b17-2e9e87ccee57"
      },
      "execution_count": 160,
      "outputs": [
        {
          "output_type": "stream",
          "name": "stdout",
          "text": [
            "Updated Train - Good: 88, Bad: 120\n",
            "Updated Test - Good: 10, Bad: 34\n"
          ]
        }
      ]
    },
    {
      "cell_type": "code",
      "source": [
        "# Generate new labels for the training set\n",
        "train_labels = []\n",
        "for file in os.listdir(os.path.join(train_path, \"good\")):\n",
        "    train_labels.append(\"good\")\n",
        "for file in os.listdir(os.path.join(train_path, \"bad\")):\n",
        "    train_labels.append(\"bad\")\n",
        "\n",
        "# Convert to encoded labels\n",
        "from sklearn.preprocessing import LabelEncoder\n",
        "\n",
        "label_encoder = LabelEncoder()\n",
        "train_labels_encoded = label_encoder.fit_transform(train_labels)\n"
      ],
      "metadata": {
        "id": "-a-2z1kyBIkD"
      },
      "execution_count": 161,
      "outputs": []
    },
    {
      "cell_type": "code",
      "source": [
        "# Explore the ground_truth directory\n",
        "ground_truth_path = os.path.join(brain_mri_path, \"ground_truth\")\n",
        "ground_truth_files = os.listdir(ground_truth_path)\n",
        "print(\"Files in ground_truth directory:\", ground_truth_files)\n",
        "\n",
        "# Get a list of image files within the first subdirectory of ground_truth\n",
        "image_files = [\n",
        "    f for f in os.listdir(os.path.join(ground_truth_path, ground_truth_files[0]))\n",
        "    if os.path.isfile(os.path.join(ground_truth_path, ground_truth_files[0], f))\n",
        "]\n",
        "\n",
        "# Example: Load the first image from ground_truth's first subdirectory\n",
        "example_image_path = os.path.join(ground_truth_path, ground_truth_files[0], image_files[0])  # Adjust index if needed\n",
        "image = Image.open(example_image_path)\n",
        "\n",
        "# Display the image\n",
        "image.show()\n",
        "\n",
        "# Check image properties\n",
        "print(\"Image size:\", image.size)\n",
        "print(\"Image mode:\", image.mode)\n"
      ],
      "metadata": {
        "colab": {
          "base_uri": "https://localhost:8080/"
        },
        "id": "CvlnQit6xlbt",
        "outputId": "2cb51811-4f6f-4763-cd0f-555384879d83"
      },
      "execution_count": 162,
      "outputs": [
        {
          "output_type": "stream",
          "name": "stdout",
          "text": [
            "Files in ground_truth directory: ['bad']\n",
            "Image size: (225, 291)\n",
            "Image mode: L\n"
          ]
        }
      ]
    },
    {
      "cell_type": "code",
      "source": [
        "# Create a mapping of labels based on subdirectory names (e.g., \"good\" = 0, \"bad\" = 1)\n",
        "labels = {'good': 0, 'bad': 1}\n",
        "\n",
        "# Assign labels based on subdirectory names\n",
        "ground_truth_labels = [\n",
        "    labels[subdir] for subdir in ground_truth_files\n",
        "]\n",
        "\n",
        "print(\"Ground truth labels:\", ground_truth_labels)\n"
      ],
      "metadata": {
        "colab": {
          "base_uri": "https://localhost:8080/"
        },
        "id": "-osfw60TxtSf",
        "outputId": "b08a85f0-0800-4ccc-ba91-dcffb2d27646"
      },
      "execution_count": 163,
      "outputs": [
        {
          "output_type": "stream",
          "name": "stdout",
          "text": [
            "Ground truth labels: [1]\n"
          ]
        }
      ]
    },
    {
      "cell_type": "code",
      "source": [
        "from PIL import Image\n",
        "import numpy as np\n",
        "\n",
        "# Function to load images from a directory\n",
        "def load_images_from_directory(directory_path):\n",
        "    images = []\n",
        "    for subdir in os.listdir(directory_path):\n",
        "        subdir_path = os.path.join(directory_path, subdir)\n",
        "        if os.path.isdir(subdir_path):\n",
        "            for file in os.listdir(subdir_path):\n",
        "                file_path = os.path.join(subdir_path, file)\n",
        "                if os.path.isfile(file_path):\n",
        "                    image = Image.open(file_path).convert(\"RGB\")\n",
        "                    images.append(np.array(image))  # Convert to numpy array\n",
        "    return images\n",
        "\n",
        "# Load train and ground_truth images\n",
        "train_images = load_images_from_directory(train_path)\n",
        "ground_truth_images = load_images_from_directory(ground_truth_path)\n",
        "\n",
        "# Check the number of images loaded\n",
        "print(\"Number of training images:\", len(train_images))\n",
        "print(\"Number of ground truth images:\", len(ground_truth_images))\n"
      ],
      "metadata": {
        "colab": {
          "base_uri": "https://localhost:8080/"
        },
        "id": "c9Gu7LD8xvp5",
        "outputId": "36c5c1d1-0cd6-46b4-f362-770172eadb99"
      },
      "execution_count": 164,
      "outputs": [
        {
          "output_type": "stream",
          "name": "stdout",
          "text": [
            "Number of training images: 208\n",
            "Number of ground truth images: 154\n"
          ]
        }
      ]
    },
    {
      "cell_type": "code",
      "source": [
        "import numpy as np\n",
        "\n",
        "# Convert image to numpy array\n",
        "image_array = np.array(image)\n",
        "print(\"Image array shape:\", image_array.shape)\n"
      ],
      "metadata": {
        "colab": {
          "base_uri": "https://localhost:8080/"
        },
        "id": "oEsQQBMOt6ne",
        "outputId": "6e8fe8be-a9a6-436b-bff5-83056f2616ab"
      },
      "execution_count": 165,
      "outputs": [
        {
          "output_type": "stream",
          "name": "stdout",
          "text": [
            "Image array shape: (291, 225)\n"
          ]
        }
      ]
    },
    {
      "cell_type": "code",
      "source": [
        "#Preprocessing the data"
      ],
      "metadata": {
        "id": "xNFtig_suBFC"
      },
      "execution_count": null,
      "outputs": []
    },
    {
      "cell_type": "code",
      "source": [
        "from PIL import Image\n",
        "\n",
        "# Function to resize images\n",
        "def resize_image(image, target_size=(128, 128)):\n",
        "    return image.resize(target_size)\n"
      ],
      "metadata": {
        "id": "zi49LW6uyTtX"
      },
      "execution_count": 166,
      "outputs": []
    },
    {
      "cell_type": "code",
      "source": [
        "# Normalize image pixel values to [0, 1]\n",
        "def normalize_image(image_array):\n",
        "    return image_array / 255.0\n"
      ],
      "metadata": {
        "id": "DHv7PvCwyZEt"
      },
      "execution_count": 167,
      "outputs": []
    },
    {
      "cell_type": "code",
      "source": [
        "import numpy as np\n",
        "\n",
        "# Function to process an image\n",
        "def preprocess_image(image_path, target_size=(128, 128)):\n",
        "    image = Image.open(image_path).convert(\"RGB\")  # Ensure consistent color mode\n",
        "    image = resize_image(image, target_size)      # Resize\n",
        "    image_array = np.array(image)                # Convert to numpy array\n",
        "    image_array = normalize_image(image_array)   # Normalize pixel values\n",
        "    return image_array\n"
      ],
      "metadata": {
        "id": "zjvRzne7ye5S"
      },
      "execution_count": 168,
      "outputs": []
    },
    {
      "cell_type": "code",
      "source": [
        "import os\n",
        "\n",
        "# Function to preprocess all images in a directory\n",
        "def preprocess_images_from_directory(directory_path, target_size=(128, 128)):\n",
        "    images = []\n",
        "    labels = []\n",
        "    for subdir in os.listdir(directory_path):\n",
        "        subdir_path = os.path.join(directory_path, subdir)\n",
        "        if os.path.isdir(subdir_path):\n",
        "            for file in os.listdir(subdir_path):\n",
        "                file_path = os.path.join(subdir_path, file)\n",
        "                if os.path.isfile(file_path):\n",
        "                    processed_image = preprocess_image(file_path, target_size)\n",
        "                    images.append(processed_image)\n",
        "                    labels.append(subdir)  # Optional: Subdirectory name as label\n",
        "    return np.array(images), labels\n",
        "\n",
        "# Preprocess train, test, and ground_truth images\n",
        "train_images, train_labels = preprocess_images_from_directory(train_path)\n",
        "test_images, test_labels = preprocess_images_from_directory(test_path)\n",
        "ground_truth_images, ground_truth_labels = preprocess_images_from_directory(ground_truth_path)\n",
        "\n",
        "# Check shapes of preprocessed data\n",
        "print(\"Train images shape:\", train_images.shape)\n",
        "print(\"Test images shape:\", test_images.shape)\n",
        "print(\"Ground truth images shape:\", ground_truth_images.shape)\n"
      ],
      "metadata": {
        "colab": {
          "base_uri": "https://localhost:8080/"
        },
        "id": "L5uYB2Anyjfv",
        "outputId": "2e99121d-a41c-40e5-c3c1-5388a773d15e"
      },
      "execution_count": 169,
      "outputs": [
        {
          "output_type": "stream",
          "name": "stdout",
          "text": [
            "Train images shape: (208, 128, 128, 3)\n",
            "Test images shape: (44, 128, 128, 3)\n",
            "Ground truth images shape: (154, 128, 128, 3)\n"
          ]
        }
      ]
    },
    {
      "cell_type": "code",
      "source": [
        "from sklearn.preprocessing import LabelEncoder\n",
        "\n",
        "# Encode labels\n",
        "label_encoder = LabelEncoder()\n",
        "# Fit on all unique labels from train, test, and ground truth\n",
        "all_labels = list(set(train_labels + test_labels + ground_truth_labels))\n",
        "label_encoder.fit(all_labels)\n",
        "\n",
        "train_labels_encoded = label_encoder.transform(train_labels)\n",
        "test_labels_encoded = label_encoder.transform(test_labels)\n",
        "ground_truth_labels_encoded = label_encoder.transform(ground_truth_labels)\n",
        "\n",
        "print(\"Encoded labels:\", label_encoder.classes_)"
      ],
      "metadata": {
        "colab": {
          "base_uri": "https://localhost:8080/"
        },
        "id": "tKvFR4wJytXC",
        "outputId": "a8a3ca6a-8a1f-4a04-ca3e-b1fdae2ef15b"
      },
      "execution_count": 170,
      "outputs": [
        {
          "output_type": "stream",
          "name": "stdout",
          "text": [
            "Encoded labels: ['bad' 'good']\n"
          ]
        }
      ]
    },
    {
      "cell_type": "code",
      "source": [
        "from sklearn.model_selection import train_test_split\n",
        "\n",
        "X_train, X_val, y_train, y_val = train_test_split(\n",
        "    train_images, train_labels_encoded, test_size=0.2, random_state=42\n",
        ")\n"
      ],
      "metadata": {
        "id": "EeDk9VL-y9ng"
      },
      "execution_count": 171,
      "outputs": []
    },
    {
      "cell_type": "code",
      "source": [
        "# Reshape images for model input\n",
        "X_train = np.expand_dims(X_train, axis=-1)  # If grayscale, add channel dimension\n",
        "X_val = np.expand_dims(X_val, axis=-1)\n",
        "X_test = np.expand_dims(test_images, axis=-1)\n",
        "X_ground_truth = np.expand_dims(ground_truth_images, axis=-1)\n"
      ],
      "metadata": {
        "id": "HdWkt__BzB6d"
      },
      "execution_count": 172,
      "outputs": []
    },
    {
      "cell_type": "code",
      "source": [
        "from sklearn.ensemble import IsolationForest\n",
        "\n",
        "# Flatten the image data for Isolation Forest (requires 2D input)\n",
        "X_train_flat = train_images.reshape(len(train_images), -1)\n",
        "X_test_flat = test_images.reshape(len(test_images), -1)\n",
        "\n",
        "# Initialize and fit Isolation Forest\n",
        "isolation_forest = IsolationForest(contamination=0.1, random_state=42)\n",
        "isolation_forest.fit(X_train_flat)\n",
        "\n",
        "# Predict anomalies (1 for normal, -1 for anomaly)\n",
        "train_predictions = isolation_forest.predict(X_train_flat)\n",
        "test_predictions = isolation_forest.predict(X_test_flat)\n",
        "\n",
        "# Convert predictions to binary (1 = normal, 0 = anomaly)\n",
        "train_anomalies = (train_predictions == -1).astype(int)\n",
        "test_anomalies = (test_predictions == -1).astype(int)\n",
        "\n",
        "print(\"Number of anomalies detected in training set:\", sum(train_anomalies))\n",
        "print(\"Number of anomalies detected in test set:\", sum(test_anomalies))\n"
      ],
      "metadata": {
        "colab": {
          "base_uri": "https://localhost:8080/"
        },
        "id": "BxBO4oDwzN5O",
        "outputId": "a64c96b9-6bab-427e-e73a-723f1a7c82b9"
      },
      "execution_count": 173,
      "outputs": [
        {
          "output_type": "stream",
          "name": "stdout",
          "text": [
            "Number of anomalies detected in training set: 21\n",
            "Number of anomalies detected in test set: 6\n"
          ]
        }
      ]
    },
    {
      "cell_type": "code",
      "source": [
        "from sklearn.model_selection import train_test_split\n",
        "from sklearn.preprocessing import LabelEncoder\n",
        "\n",
        "# Encode labels\n",
        "label_encoder = LabelEncoder()\n",
        "# Fit on all unique labels from train, test, and ground truth\n",
        "all_labels = list(set(train_labels + test_labels + ground_truth_labels))\n",
        "label_encoder.fit(all_labels)\n",
        "\n",
        "train_labels_encoded = label_encoder.transform(train_labels)\n",
        "test_labels_encoded = label_encoder.transform(test_labels)\n",
        "ground_truth_labels_encoded = label_encoder.transform(ground_truth_labels)\n",
        "\n",
        "print(\"Encoded labels:\", label_encoder.classes_)\n",
        "\n",
        "# Check for class distribution before splitting\n",
        "unique_classes, class_counts = np.unique(train_labels_encoded, return_counts=True)\n",
        "print(\"Class distribution before splitting:\", dict(zip(unique_classes, class_counts)))\n",
        "\n",
        "# Introduce stratification during train_test_split\n",
        "X_train, X_val, y_train, y_val = train_test_split(\n",
        "    train_images, train_labels_encoded, test_size=0.2, random_state=42, stratify=train_labels_encoded\n",
        ")\n",
        "\n",
        "# Check class distribution after splitting\n",
        "unique_classes, class_counts = np.unique(y_train, return_counts=True)\n",
        "print(\"Class distribution after splitting:\", dict(zip(unique_classes, class_counts)))\n",
        "\n",
        "# Proceed with RandomUnderSampler if multiple classes are present in y_train\n",
        "rus = RandomUnderSampler(random_state=42)\n",
        "\n",
        "# Verify if y_train has more than 1 class\n",
        "if len(np.unique(y_train)) > 1:\n",
        "    # Reshape X_train before applying RandomUnderSampler (if necessary)\n",
        "    # If your images are not already flattened, you might need to reshape them here\n",
        "    #X_train_reshaped = X_train.reshape(X_train.shape[0], -1)\n",
        "    X_train_balanced, y_train_balanced = rus.fit_resample(X_train.reshape(X_train.shape[0], -1), y_train) #Reshape before fit_resample\n",
        "else:\n",
        "    print(\"Error: y_train still has only 1 class. Check data or adjust splitting.\")"
      ],
      "metadata": {
        "colab": {
          "base_uri": "https://localhost:8080/"
        },
        "id": "lrweqcth8AGT",
        "outputId": "1d889fb5-6ed0-408a-cfcf-fef449eb1b2e"
      },
      "execution_count": 174,
      "outputs": [
        {
          "output_type": "stream",
          "name": "stdout",
          "text": [
            "Encoded labels: ['bad' 'good']\n",
            "Class distribution before splitting: {0: 120, 1: 88}\n",
            "Class distribution after splitting: {0: 96, 1: 70}\n"
          ]
        }
      ]
    },
    {
      "cell_type": "code",
      "source": [
        "from sklearn.metrics import classification_report\n",
        "\n",
        "# Assuming train_labels_encoded contains binary labels (0 = normal, 1 = anomaly)\n",
        "print(\"Isolation Forest - Training Set Evaluation:\")\n",
        "print(classification_report(train_labels_encoded, train_anomalies))\n",
        "\n",
        "# Assuming test_labels_encoded contains binary labels (0 = normal, 1 = anomaly)\n",
        "print(\"Isolation Forest - Test Set Evaluation:\")\n",
        "print(classification_report(test_labels_encoded, test_anomalies))\n"
      ],
      "metadata": {
        "colab": {
          "base_uri": "https://localhost:8080/"
        },
        "id": "WIKJc0XOzw5J",
        "outputId": "fa41fd90-9e91-436e-c617-d97ce309942f"
      },
      "execution_count": 382,
      "outputs": [
        {
          "output_type": "stream",
          "name": "stdout",
          "text": [
            "Isolation Forest - Training Set Evaluation:\n",
            "              precision    recall  f1-score   support\n",
            "\n",
            "           0       0.58      0.91      0.71       120\n",
            "           1       0.48      0.11      0.18        88\n",
            "\n",
            "    accuracy                           0.57       208\n",
            "   macro avg       0.53      0.51      0.45       208\n",
            "weighted avg       0.54      0.57      0.49       208\n",
            "\n",
            "Isolation Forest - Test Set Evaluation:\n",
            "              precision    recall  f1-score   support\n",
            "\n",
            "           0       0.74      0.82      0.78        34\n",
            "           1       0.00      0.00      0.00        10\n",
            "\n",
            "    accuracy                           0.64        44\n",
            "   macro avg       0.37      0.41      0.39        44\n",
            "weighted avg       0.57      0.64      0.60        44\n",
            "\n"
          ]
        }
      ]
    },
    {
      "cell_type": "code",
      "source": [
        "from sklearn.ensemble import IsolationForest\n",
        "\n",
        "# Train Isolation Forest\n",
        "isolation_forest = IsolationForest(contamination=0.1, random_state=42)\n",
        "iso_labels = isolation_forest.fit_predict(X_train_scaled)\n",
        "\n",
        "# Convert labels to anomalies (1 = normal, 0 = anomaly)\n",
        "iso_anomalies = (iso_labels == -1).astype(int)\n",
        "\n",
        "# Visualize anomalies\n",
        "plt.scatter(X_train_pca[:, 0], X_train_pca[:, 1], c=iso_anomalies, cmap='coolwarm')\n",
        "plt.title(\"Isolation Forest Anomaly Detection\")\n",
        "plt.xlabel(\"Principal Component 1\")\n",
        "plt.ylabel(\"Principal Component 2\")\n",
        "plt.show()\n"
      ],
      "metadata": {
        "colab": {
          "base_uri": "https://localhost:8080/",
          "height": 472
        },
        "id": "EHzzAqvz4h0a",
        "outputId": "fd1406b7-5515-4c07-c230-5f91533251dc"
      },
      "execution_count": 176,
      "outputs": [
        {
          "output_type": "display_data",
          "data": {
            "text/plain": [
              "<Figure size 640x480 with 1 Axes>"
            ],
            "image/png": "[encoded data removed]"
          },
          "metadata": {}
        }
      ]
    },
    {
      "cell_type": "code",
      "source": [
        "import matplotlib.pyplot as plt\n",
        "\n",
        "# Plot the first two principal components\n",
        "plt.scatter(X_train_pca[:, 0], X_train_pca[:, 1], s=10, c='blue')\n",
        "plt.title(\"Data Distribution After PCA\")\n",
        "plt.xlabel(\"Principal Component 1\")\n",
        "plt.ylabel(\"Principal Component 2\")\n",
        "plt.show()\n"
      ],
      "metadata": {
        "colab": {
          "base_uri": "https://localhost:8080/",
          "height": 472
        },
        "id": "yWAE3JUx3pQh",
        "outputId": "1e97534b-475d-4d5a-9869-edafa7d00ebe"
      },
      "execution_count": 381,
      "outputs": [
        {
          "output_type": "display_data",
          "data": {
            "text/plain": [
              "<Figure size 640x480 with 1 Axes>"
            ],
            "image/png": "[encoded data removed]"
          },
          "metadata": {}
        }
      ]
    },
    {
      "cell_type": "code",
      "source": [
        "from imblearn.over_sampling import SMOTE\n",
        "\n",
        "smote = SMOTE(random_state=42)\n",
        "X_train_balanced, y_train_balanced = smote.fit_resample(X_train_scaled, train_labels_encoded)\n"
      ],
      "metadata": {
        "id": "R_GYWjX_HfmV"
      },
      "execution_count": 337,
      "outputs": []
    },
    {
      "cell_type": "code",
      "source": [
        "from imblearn.under_sampling import RandomUnderSampler\n",
        "\n",
        "rus = RandomUnderSampler(random_state=42)\n",
        "X_train_balanced, y_train_balanced = rus.fit_resample(X_train_scaled, train_labels_encoded)\n"
      ],
      "metadata": {
        "id": "nnwxoVp2HiUb"
      },
      "execution_count": 338,
      "outputs": []
    },
    {
      "cell_type": "code",
      "source": [
        "import matplotlib.pyplot as plt\n",
        "\n",
        "# Visualize the first 100 predictions\n",
        "plt.figure(figsize=(10, 5))\n",
        "plt.scatter(range(100), train_anomalies[:100], c=\"red\", label=\"Anomalies\")\n",
        "plt.scatter(range(100), train_labels_encoded[:100], c=\"green\", label=\"Ground Truth\")\n",
        "plt.title(\"Isolation Forest Anomaly Detection\")\n",
        "plt.legend()\n",
        "plt.show()\n"
      ],
      "metadata": {
        "colab": {
          "base_uri": "https://localhost:8080/",
          "height": 398
        },
        "id": "643kOqv-z8PJ",
        "outputId": "251dcb2d-3605-4ede-cdab-0287a160de98"
      },
      "execution_count": 387,
      "outputs": [
        {
          "output_type": "display_data",
          "data": {
            "text/plain": [
              "<Figure size 1000x500 with 1 Axes>"
            ],
            "image/png": "[encoded data removed]"
          },
          "metadata": {}
        }
      ]
    },
    {
      "cell_type": "code",
      "source": [
        "import pandas as pd\n",
        "\n",
        "# Ensure test_files and test_anomalies are defined\n",
        "# Replace the following with actual values\n",
        "test_files = [...]  # List of test file names\n",
        "test_anomalies = [...]  # Anomaly predictions from Isolation Forest\n",
        "\n",
        "# Check if lengths match\n",
        "if len(test_files) != len(test_anomalies):\n",
        "    print(f\"Length of test_files: {len(test_files)}\")\n",
        "    print(f\"Length of test_anomalies: {len(test_anomalies)}\")\n",
        "    raise ValueError(\"test_files and test_anomalies have different lengths\")\n",
        "\n",
        "# Save to CSV\n",
        "anomalies_df = pd.DataFrame({\n",
        "    \"File\": test_files,\n",
        "    \"Prediction\": test_anomalies\n",
        "})\n",
        "anomalies_df.to_csv(\"test_set_anomalies.csv\", index=False)\n",
        "print(\"Anomalies saved to test_set_anomalies.csv\")\n"
      ],
      "metadata": {
        "colab": {
          "base_uri": "https://localhost:8080/"
        },
        "id": "bfAYlKuAcYKB",
        "outputId": "c56340db-841e-48e6-ac8c-5102e235d7d6"
      },
      "execution_count": 386,
      "outputs": [
        {
          "output_type": "stream",
          "name": "stdout",
          "text": [
            "Anomalies saved to test_set_anomalies.csv\n"
          ]
        }
      ]
    },
    {
      "cell_type": "code",
      "source": [
        "print(\"test_files:\", test_files[:5])\n",
        "print(\"test_anomalies:\", test_anomalies[:5])\n"
      ],
      "metadata": {
        "colab": {
          "base_uri": "https://localhost:8080/"
        },
        "id": "YRNrL5fVeFFz",
        "outputId": "8ebbb81b-111c-4c5d-d88c-1d98cbd4fbc6"
      },
      "execution_count": 388,
      "outputs": [
        {
          "output_type": "stream",
          "name": "stdout",
          "text": [
            "test_files: [Ellipsis]\n",
            "test_anomalies: [Ellipsis]\n"
          ]
        }
      ]
    }
  ]
}